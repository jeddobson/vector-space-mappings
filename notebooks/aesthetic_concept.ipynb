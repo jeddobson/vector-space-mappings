{
 "cells": [
  {
   "cell_type": "code",
   "execution_count": 1,
   "metadata": {},
   "outputs": [],
   "source": [
    "import gensim\n",
    "from gensim.models import Word2Vec\n",
    "from gensim.models import KeyedVectors\n",
    "\n",
    "from gensim import matutils\n",
    "import numpy as np\n",
    "from numpy import dot\n",
    "from sklearn.metrics.pairwise import cosine_similarity\n",
    "from sklearn.decomposition import PCA\n",
    "from matplotlib import pyplot as plt\n",
    "%matplotlib inline\n",
    "\n",
    "\n",
    "from ipywidgets import interact, interactive, fixed, interact_manual\n",
    "import ipywidgets as widgets"
   ]
  },
  {
   "cell_type": "code",
   "execution_count": 2,
   "metadata": {},
   "outputs": [],
   "source": [
    "def scatter_terms(term1,term2,model_name):\n",
    "    terms = [term1,term2]\n",
    "    model = models[model_name]\n",
    "    tdata=dict()\n",
    "    for t in terms:\n",
    "        tdata[t] = dict()\n",
    "        tdata[t]['response'] = model.most_similar(t,topn=25)\n",
    "        tdata[t]['neighbor_list'] = list()\n",
    "        tdata[t]['words'] = list()\n",
    "\n",
    "        # add search term\n",
    "        tdata[t]['words'].append(t)\n",
    "        tdata[t]['neighbor_list'].append(model[t])\n",
    "\n",
    "        for i in tdata[t]['response']:\n",
    "            tdata[t]['words'].append(i[0])\n",
    "            tdata[t]['neighbor_list'].append(model[i[0]])\n",
    "            \n",
    "    tdata_labels=list()\n",
    "    tdata_neighbor_list=list()\n",
    "    tdata_words=list()\n",
    "    for t in sorted(tdata.keys()):\n",
    "        tdata_labels.append(t)\n",
    "        tdata_neighbor_list = tdata_neighbor_list + tdata[t]['neighbor_list']\n",
    "        tdata_words = tdata_words + (tdata[t]['words'])\n",
    "        \n",
    "    pca = PCA(n_components=2)\n",
    "\n",
    "    plot_data = pca.fit_transform(tdata_neighbor_list)\n",
    "    fig = plt.figure(figsize=(20, 15))\n",
    "\n",
    "    xs = plot_data[:, 0]\n",
    "    ys = plot_data[:, 1]\n",
    "    plt.clf()\n",
    "\n",
    "    # plot first word in red\n",
    "    plt.scatter(plot_data[:26, 0], plot_data[:26, 1], marker = 'o', c=\"red\")\n",
    "\n",
    "    # plot first word in blue\n",
    "    plt.scatter(plot_data[27:, 0], plot_data[27:, 1], marker = 'o', c=\"blue\")\n",
    "    plt.title(\"terms: {0},{1} ({2})\".format(term1,term2,model_name))\n",
    "           \n",
    "    # add names\n",
    "    for i, w in enumerate(tdata_words):\n",
    "        plt.annotate(w, xy = (xs[i], ys[i]), \n",
    "                     alpha=0.5,\n",
    "                     xytext = (3, 3),\n",
    "                     textcoords = 'offset points', \n",
    "                     ha = 'left', va = 'top')\n",
    "    plt.show()"
   ]
  },
  {
   "cell_type": "code",
   "execution_count": 6,
   "metadata": {},
   "outputs": [],
   "source": [
    "# load model\n",
    "models = dict()\n",
    "models[\"movie_model\"] = KeyedVectors.load(\"../models/movie-reviews-vectors.w2v\", mmap='r')\n",
    "models[\"book_model\"] = KeyedVectors.load(\"../models/book-reviews-vectors.w2v\", mmap='r')"
   ]
  },
  {
   "cell_type": "code",
   "execution_count": 7,
   "metadata": {},
   "outputs": [
    {
     "data": {
      "application/vnd.jupyter.widget-view+json": {
       "model_id": "94cd502287d7467aaf9f6c837e9f0fbf",
       "version_major": 2,
       "version_minor": 0
      },
      "text/plain": [
       "interactive(children=(Text(value='beauty', description='term1'), Text(value='pretty', description='term2'), Dr…"
      ]
     },
     "metadata": {},
     "output_type": "display_data"
    }
   ],
   "source": [
    "model_names = [\"movie_model\",\"book_model\"]\n",
    "interact(scatter_terms, \n",
    "         term1=\"beauty\",\n",
    "         term2=\"pretty\",\n",
    "         model_name=model_names);"
   ]
  },
  {
   "cell_type": "code",
   "execution_count": null,
   "metadata": {},
   "outputs": [],
   "source": []
  }
 ],
 "metadata": {
  "kernelspec": {
   "display_name": "Python 3",
   "language": "python",
   "name": "python3"
  },
  "language_info": {
   "codemirror_mode": {
    "name": "ipython",
    "version": 3
   },
   "file_extension": ".py",
   "mimetype": "text/x-python",
   "name": "python",
   "nbconvert_exporter": "python",
   "pygments_lexer": "ipython3",
   "version": "3.7.4"
  },
  "widgets": {
   "state": {
    "f0a282c794334524bf652fde08dba989": {
     "views": [
      {
       "cell_index": 3
      }
     ]
    }
   },
   "version": "1.2.0"
  }
 },
 "nbformat": 4,
 "nbformat_minor": 2
}
