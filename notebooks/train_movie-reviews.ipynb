{
 "cells": [
  {
   "cell_type": "code",
   "execution_count": null,
   "metadata": {},
   "outputs": [],
   "source": [
    "import os, sys\n",
    "from glob import glob\n",
    "import nltk\n",
    "from nltk.tokenize import word_tokenize\n",
    "from gensim.test.utils import get_tmpfile\n",
    "from gensim.models import KeyedVectors"
   ]
  },
  {
   "cell_type": "code",
   "execution_count": null,
   "metadata": {},
   "outputs": [],
   "source": [
    "# read files\n",
    "import gzip\n",
    "raw_text = gzip.open(\"../data/movie-reviews/movie-reviews.txt.gz\",'rt').read()\n",
    "\n",
    "# tokenize\n",
    "tokens = word_tokenize(raw_text)    \n",
    "\n",
    "# drop to lowercase\n",
    "tokens = [word.lower() for word in tokens]\n",
    "        \n",
    "# *step two* (default): remove non-alpha characters,\n",
    "# punctuation, and as many other \"noise\" elements as\n",
    "# possible. If dealing with a single character word,    \n",
    "# drop non-alphabetical characters. This will remove \n",
    "# most punctuation but preserve many words containing\n",
    "# marks such as the '-' in 'self-emancipated'\n",
    "\n",
    "tmp_text=list()\n",
    "\n",
    "for word in tokens:\n",
    "    if len(word) == 1:\n",
    "        if word.isalpha == True:\n",
    "            tmp_text.append(word)\n",
    "        else:\n",
    "            tmp_text.append(word)           \n",
    "tokens = tmp_text\n",
    "\n",
    "# now remove leading and trailing quotation marks,      \n",
    "# hyphens and  dashes\n",
    "tmp_text=list()\n",
    "drop_list = ['“','\"','”','-','—']\n",
    "for word in tokens:\n",
    "    if word[0] in drop_list:\n",
    "        word = word[1:]\n",
    "    if word[-1:] in drop_list:\n",
    "        word = word[:-1]\n",
    "\n",
    "    # catch any zero-length words remaining\n",
    "    if len(word) > 0:\n",
    "        tmp_text.append(word)\n",
    "tokens = tmp_text"
   ]
  },
  {
   "cell_type": "code",
   "execution_count": null,
   "metadata": {},
   "outputs": [],
   "source": [
    "import gensim\n",
    "\n",
    "# source documents\n",
    "# dimension of feature vectors \n",
    "# max distance   \n",
    "# number of times a word must appear to be included in vocab\n",
    "# for parallelization\n",
    "\n",
    "movie_review_model = gensim.models.Word2Vec(\n",
    "    tokens, \n",
    "    sg=0,           # sg=1 is use skip-gram, sg=0 is cbow \n",
    "    size=200,        \n",
    "    window=15,     \n",
    "    min_count=2,    # increase min_count to limit vocabulary and find fewer rare words\n",
    "    workers=10,     \n",
    "    iter=10)"
   ]
  },
  {
   "cell_type": "code",
   "execution_count": null,
   "metadata": {},
   "outputs": [],
   "source": [
    "# save model\n",
    "fp = open(\"../models/movie-reviews-vectors.w2v\",'wb')\n",
    "movie_review_model.wv.save(fp)"
   ]
  },
  {
   "cell_type": "code",
   "execution_count": null,
   "metadata": {},
   "outputs": [],
   "source": [
    "movie_review_model.wv.most_similar(\"beautiful\",topn=25)"
   ]
  },
  {
   "cell_type": "code",
   "execution_count": null,
   "metadata": {},
   "outputs": [],
   "source": []
  }
 ],
 "metadata": {
  "kernelspec": {
   "display_name": "Python 3",
   "language": "python",
   "name": "python3"
  },
  "language_info": {
   "codemirror_mode": {
    "name": "ipython",
    "version": 3
   },
   "file_extension": ".py",
   "mimetype": "text/x-python",
   "name": "python",
   "nbconvert_exporter": "python",
   "pygments_lexer": "ipython3",
   "version": "3.8.1"
  }
 },
 "nbformat": 4,
 "nbformat_minor": 2
}
