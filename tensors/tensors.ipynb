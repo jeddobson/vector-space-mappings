{
 "cells": [
  {
   "cell_type": "markdown",
   "metadata": {},
   "source": [
    "\n",
    "# Tensors \n",
    "\n",
    "<ol>\n",
    "<li><a href=\"https://projector.tensorflow.org/?config=https://raw.githubusercontent.com/jeddobson/vector-space-mappings/master/tensors/concepts-1800.json\">1800</a>\n",
    "<li><a href=\"https://projector.tensorflow.org/?config=https://raw.githubusercontent.com/jeddobson/vector-space-mappings/master/tensors/concepts-1810.json\">1810</a>\n",
    "<li><a href=\"https://projector.tensorflow.org/?config=https://raw.githubusercontent.com/jeddobson/vector-space-mappings/master/tensors/concepts-1820.json\">1820</a>\n",
    "<li><a href=\"https://projector.tensorflow.org/?config=https://raw.githubusercontent.com/jeddobson/vector-space-mappings/master/tensors/concepts-1830.json\">1830</a>\n",
    "<li><a href=\"https://projector.tensorflow.org/?config=https://raw.githubusercontent.com/jeddobson/vector-space-mappings/master/tensors/concepts-1840.json\">1840</a>\n",
    "<li><a href=\"https://projector.tensorflow.org/?config=https://raw.githubusercontent.com/jeddobson/vector-space-mappings/master/tensors/concepts-1850.json\">1850</a>\n",
    "<li><a href=\"https://projector.tensorflow.org/?config=https://raw.githubusercontent.com/jeddobson/vector-space-mappings/master/tensors/concepts-1860.json\">1860</a>\n",
    "<li><a href=\"https://projector.tensorflow.org/?config=https://raw.githubusercontent.com/jeddobson/vector-space-mappings/master/tensors/concepts-1870.json\">1870</a>\n",
    "<li><a href=\"https://projector.tensorflow.org/?config=https://raw.githubusercontent.com/jeddobson/vector-space-mappings/master/tensors/concepts-1880.json\">1880</a>\n",
    "<li><a href=\"https://projector.tensorflow.org/?config=https://raw.githubusercontent.com/jeddobson/vector-space-mappings/master/tensors/concepts-1890.json\">1890</a>\n",
    "<li><a href=\"https://projector.tensorflow.org/?config=https://raw.githubusercontent.com/jeddobson/vector-space-mappings/master/tensors/concepts-1900.json\">1900</a>\n",
    "<li><a href=\"https://projector.tensorflow.org/?config=https://raw.githubusercontent.com/jeddobson/vector-space-mappings/master/tensors/concepts-1910.json\">1910</a>\n",
    "<li><a href=\"https://projector.tensorflow.org/?config=https://raw.githubusercontent.com/jeddobson/vector-space-mappings/master/tensors/concepts-1920.json\">1920</a>\n",
    "<li><a href=\"https://projector.tensorflow.org/?config=https://raw.githubusercontent.com/jeddobson/vector-space-mappings/master/tensors/concepts-1930.json\">1930</a>\n",
    "<li><a href=\"https://projector.tensorflow.org/?config=https://raw.githubusercontent.com/jeddobson/vector-space-mappings/master/tensors/concepts-1940.json\">1940</a>\n",
    "<li><a href=\"https://projector.tensorflow.org/?config=https://raw.githubusercontent.com/jeddobson/vector-space-mappings/master/tensors/concepts-1950.json\">1950</a>\n",
    "<li><a href=\"https://projector.tensorflow.org/?config=https://raw.githubusercontent.com/jeddobson/vector-space-mappings/master/tensors/concepts-1960.json\">1960</a>\n",
    "<li><a href=\"https://projector.tensorflow.org/?config=https://raw.githubusercontent.com/jeddobson/vector-space-mappings/master/tensors/concepts-1970.json\">1970</a>\n",
    "<li><a href=\"https://projector.tensorflow.org/?config=https://raw.githubusercontent.com/jeddobson/vector-space-mappings/master/tensors/concepts-1980.json\">1980</a>\n",
    "<li><a href=\"https://projector.tensorflow.org/?config=https://raw.githubusercontent.com/jeddobson/vector-space-mappings/master/tensors/concepts-1990.json\">1990</a>\n",
    "</ol>\n"
   ]
  },
  {
   "cell_type": "code",
   "execution_count": null,
   "metadata": {
    "collapsed": true
   },
   "outputs": [],
   "source": []
  }
 ],
 "metadata": {
  "kernelspec": {
   "display_name": "Python 3",
   "language": "python",
   "name": "python3"
  },
  "language_info": {
   "codemirror_mode": {
    "name": "ipython",
    "version": 3
   },
   "file_extension": ".py",
   "mimetype": "text/x-python",
   "name": "python",
   "nbconvert_exporter": "python",
   "pygments_lexer": "ipython3",
   "version": "3.5.9"
  }
 },
 "nbformat": 4,
 "nbformat_minor": 2
}
